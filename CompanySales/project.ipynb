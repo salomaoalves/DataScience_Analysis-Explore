{
 "cells": [
  {
   "cell_type": "code",
   "execution_count": 1,
   "metadata": {},
   "outputs": [],
   "source": [
    "import pandas as pd\n",
    "import numpy as np\n",
    "import matplotlib.pyplot as plt"
   ]
  },
  {
   "cell_type": "markdown",
   "metadata": {},
   "source": [
    "## Load Data"
   ]
  },
  {
   "cell_type": "code",
   "execution_count": 2,
   "metadata": {},
   "outputs": [
    {
     "data": {
      "text/html": [
       "<div>\n",
       "<style scoped>\n",
       "    .dataframe tbody tr th:only-of-type {\n",
       "        vertical-align: middle;\n",
       "    }\n",
       "\n",
       "    .dataframe tbody tr th {\n",
       "        vertical-align: top;\n",
       "    }\n",
       "\n",
       "    .dataframe thead th {\n",
       "        text-align: right;\n",
       "    }\n",
       "</style>\n",
       "<table border=\"1\" class=\"dataframe\">\n",
       "  <thead>\n",
       "    <tr style=\"text-align: right;\">\n",
       "      <th></th>\n",
       "      <th>cod_client</th>\n",
       "      <th>cod_product</th>\n",
       "      <th>date_sales</th>\n",
       "      <th>qty_product</th>\n",
       "      <th>sale_value</th>\n",
       "    </tr>\n",
       "  </thead>\n",
       "  <tbody>\n",
       "    <tr>\n",
       "      <th>0</th>\n",
       "      <td>76320</td>\n",
       "      <td>3516</td>\n",
       "      <td>20180302</td>\n",
       "      <td>64.0</td>\n",
       "      <td>167776.00</td>\n",
       "    </tr>\n",
       "    <tr>\n",
       "      <th>1</th>\n",
       "      <td>76320</td>\n",
       "      <td>17164</td>\n",
       "      <td>20180302</td>\n",
       "      <td>160.0</td>\n",
       "      <td>78176.00</td>\n",
       "    </tr>\n",
       "    <tr>\n",
       "      <th>2</th>\n",
       "      <td>76320</td>\n",
       "      <td>21848</td>\n",
       "      <td>20180302</td>\n",
       "      <td>16.0</td>\n",
       "      <td>232.96</td>\n",
       "    </tr>\n",
       "    <tr>\n",
       "      <th>3</th>\n",
       "      <td>124272</td>\n",
       "      <td>23132</td>\n",
       "      <td>20180102</td>\n",
       "      <td>1600.0</td>\n",
       "      <td>107296.00</td>\n",
       "    </tr>\n",
       "    <tr>\n",
       "      <th>4</th>\n",
       "      <td>124272</td>\n",
       "      <td>23124</td>\n",
       "      <td>20180102</td>\n",
       "      <td>320.0</td>\n",
       "      <td>111776.00</td>\n",
       "    </tr>\n",
       "  </tbody>\n",
       "</table>\n",
       "</div>"
      ],
      "text/plain": [
       "   cod_client  cod_product  date_sales  qty_product  sale_value\n",
       "0       76320         3516    20180302         64.0   167776.00\n",
       "1       76320        17164    20180302        160.0    78176.00\n",
       "2       76320        21848    20180302         16.0      232.96\n",
       "3      124272        23132    20180102       1600.0   107296.00\n",
       "4      124272        23124    20180102        320.0   111776.00"
      ]
     },
     "execution_count": 2,
     "metadata": {},
     "output_type": "execute_result"
    }
   ],
   "source": [
    "sales = pd.read_csv('sales.csv')\n",
    "sales.head()"
   ]
  },
  {
   "cell_type": "code",
   "execution_count": 3,
   "metadata": {},
   "outputs": [
    {
     "name": "stdout",
     "output_type": "stream",
     "text": [
      "<class 'pandas.core.frame.DataFrame'>\n",
      "RangeIndex: 104078 entries, 0 to 104077\n",
      "Data columns (total 5 columns):\n",
      "cod_client     104078 non-null int64\n",
      "cod_product    104078 non-null int64\n",
      "date_sales     104078 non-null int64\n",
      "qty_product    104078 non-null float64\n",
      "sale_value     104078 non-null float64\n",
      "dtypes: float64(2), int64(3)\n",
      "memory usage: 4.0 MB\n"
     ]
    }
   ],
   "source": [
    "sales.info()"
   ]
  },
  {
   "cell_type": "code",
   "execution_count": 4,
   "metadata": {},
   "outputs": [
    {
     "data": {
      "text/html": [
       "<div>\n",
       "<style scoped>\n",
       "    .dataframe tbody tr th:only-of-type {\n",
       "        vertical-align: middle;\n",
       "    }\n",
       "\n",
       "    .dataframe tbody tr th {\n",
       "        vertical-align: top;\n",
       "    }\n",
       "\n",
       "    .dataframe thead th {\n",
       "        text-align: right;\n",
       "    }\n",
       "</style>\n",
       "<table border=\"1\" class=\"dataframe\">\n",
       "  <thead>\n",
       "    <tr style=\"text-align: right;\">\n",
       "      <th></th>\n",
       "      <th>cod_client</th>\n",
       "      <th>cod_product</th>\n",
       "      <th>date_sales</th>\n",
       "      <th>qty_product</th>\n",
       "      <th>sale_value</th>\n",
       "    </tr>\n",
       "  </thead>\n",
       "  <tbody>\n",
       "    <tr>\n",
       "      <th>count</th>\n",
       "      <td>104078.000000</td>\n",
       "      <td>104078.000000</td>\n",
       "      <td>1.040780e+05</td>\n",
       "      <td>104078.000000</td>\n",
       "      <td>1.040780e+05</td>\n",
       "    </tr>\n",
       "    <tr>\n",
       "      <th>mean</th>\n",
       "      <td>53391.569400</td>\n",
       "      <td>8934.583524</td>\n",
       "      <td>2.019032e+07</td>\n",
       "      <td>273.414399</td>\n",
       "      <td>7.086300e+04</td>\n",
       "    </tr>\n",
       "    <tr>\n",
       "      <th>std</th>\n",
       "      <td>44994.545404</td>\n",
       "      <td>8039.862194</td>\n",
       "      <td>6.760033e+03</td>\n",
       "      <td>1423.161777</td>\n",
       "      <td>8.770003e+04</td>\n",
       "    </tr>\n",
       "    <tr>\n",
       "      <th>min</th>\n",
       "      <td>48.000000</td>\n",
       "      <td>20.000000</td>\n",
       "      <td>2.018010e+07</td>\n",
       "      <td>16.000000</td>\n",
       "      <td>1.568000e+01</td>\n",
       "    </tr>\n",
       "    <tr>\n",
       "      <th>25%</th>\n",
       "      <td>16272.000000</td>\n",
       "      <td>2328.000000</td>\n",
       "      <td>2.018121e+07</td>\n",
       "      <td>96.000000</td>\n",
       "      <td>1.993600e+04</td>\n",
       "    </tr>\n",
       "    <tr>\n",
       "      <th>50%</th>\n",
       "      <td>38016.000000</td>\n",
       "      <td>5348.000000</td>\n",
       "      <td>2.019063e+07</td>\n",
       "      <td>192.000000</td>\n",
       "      <td>5.801600e+04</td>\n",
       "    </tr>\n",
       "    <tr>\n",
       "      <th>75%</th>\n",
       "      <td>86144.000000</td>\n",
       "      <td>10256.000000</td>\n",
       "      <td>2.019121e+07</td>\n",
       "      <td>320.000000</td>\n",
       "      <td>1.072960e+05</td>\n",
       "    </tr>\n",
       "    <tr>\n",
       "      <th>max</th>\n",
       "      <td>280224.000000</td>\n",
       "      <td>53640.000000</td>\n",
       "      <td>2.020052e+07</td>\n",
       "      <td>299520.000000</td>\n",
       "      <td>3.181024e+06</td>\n",
       "    </tr>\n",
       "  </tbody>\n",
       "</table>\n",
       "</div>"
      ],
      "text/plain": [
       "          cod_client    cod_product    date_sales    qty_product    sale_value\n",
       "count  104078.000000  104078.000000  1.040780e+05  104078.000000  1.040780e+05\n",
       "mean    53391.569400    8934.583524  2.019032e+07     273.414399  7.086300e+04\n",
       "std     44994.545404    8039.862194  6.760033e+03    1423.161777  8.770003e+04\n",
       "min        48.000000      20.000000  2.018010e+07      16.000000  1.568000e+01\n",
       "25%     16272.000000    2328.000000  2.018121e+07      96.000000  1.993600e+04\n",
       "50%     38016.000000    5348.000000  2.019063e+07     192.000000  5.801600e+04\n",
       "75%     86144.000000   10256.000000  2.019121e+07     320.000000  1.072960e+05\n",
       "max    280224.000000   53640.000000  2.020052e+07  299520.000000  3.181024e+06"
      ]
     },
     "execution_count": 4,
     "metadata": {},
     "output_type": "execute_result"
    }
   ],
   "source": [
    "sales.describe()"
   ]
  },
  {
   "cell_type": "code",
   "execution_count": 5,
   "metadata": {},
   "outputs": [],
   "source": [
    "sales['year'] = sales['date_sales'].astype(str).apply(lambda x: x[:4])\n",
    "sales['month'] = sales['date_sales'].astype(str).apply(lambda x: x[4:6])\n",
    "sales['day'] = sales['date_sales'].astype(str).apply(lambda x: x[-2:])"
   ]
  },
  {
   "cell_type": "code",
   "execution_count": 6,
   "metadata": {},
   "outputs": [],
   "source": [
    "date_18 = sales[sales['year'] == '2018']\n",
    "date_19 = sales[sales['year'] == '2019']\n",
    "date_20 = sales[sales['year'] == '2020']"
   ]
  },
  {
   "cell_type": "markdown",
   "metadata": {},
   "source": [
    "## Question 01\n",
    "What are the 10 best and least sold products in 2018, 2019 and 2020?"
   ]
  },
  {
   "cell_type": "code",
   "execution_count": 7,
   "metadata": {},
   "outputs": [],
   "source": [
    "def sales_amount(df, year):\n",
    "    \n",
    "    cod_prod = df.cod_product.value_counts().index\n",
    "    amount = df.cod_product.value_counts().values\n",
    "    df_freq = pd.DataFrame({'cod_product': cod_prod, 'amount': amount})\n",
    "    \n",
    "    print(f'TOP 10 BEST PRODUCTS OF {year}')\n",
    "    print(df_freq.iloc[:10,:])\n",
    "    \n",
    "    print(f'TOP 10 WORST PRODUCTS OF {year}')\n",
    "    print(df_freq.iloc[:10,:])"
   ]
  },
  {
   "cell_type": "code",
   "execution_count": 8,
   "metadata": {},
   "outputs": [
    {
     "name": "stdout",
     "output_type": "stream",
     "text": [
      "TOP 10 BEST PRODUCTS OF 2018\n",
      "   cod_product  amount\n",
      "0         2128     565\n",
      "1         4460     562\n",
      "2         4464     562\n",
      "3         4456     484\n",
      "4         2324     448\n",
      "5         2172     356\n",
      "6         2116     348\n",
      "7         2152     343\n",
      "8         9756     325\n",
      "9        17996     311\n",
      "TOP 10 WORST PRODUCTS OF 2018\n",
      "   cod_product  amount\n",
      "0         2128     565\n",
      "1         4460     562\n",
      "2         4464     562\n",
      "3         4456     484\n",
      "4         2324     448\n",
      "5         2172     356\n",
      "6         2116     348\n",
      "7         2152     343\n",
      "8         9756     325\n",
      "9        17996     311\n"
     ]
    }
   ],
   "source": [
    "# 2018\n",
    "sales_amount(date_18, '2018')"
   ]
  },
  {
   "cell_type": "code",
   "execution_count": 9,
   "metadata": {},
   "outputs": [
    {
     "name": "stdout",
     "output_type": "stream",
     "text": [
      "TOP 10 BEST PRODUCTS OF 2019\n",
      "   cod_product  amount\n",
      "0         2128    1337\n",
      "1         4464    1321\n",
      "2         4460    1280\n",
      "3         2324    1188\n",
      "4         4456    1145\n",
      "5         2116     845\n",
      "6         2152     830\n",
      "7         9824     827\n",
      "8         2172     818\n",
      "9         9756     776\n",
      "TOP 10 WORST PRODUCTS OF 2019\n",
      "   cod_product  amount\n",
      "0         2128    1337\n",
      "1         4464    1321\n",
      "2         4460    1280\n",
      "3         2324    1188\n",
      "4         4456    1145\n",
      "5         2116     845\n",
      "6         2152     830\n",
      "7         9824     827\n",
      "8         2172     818\n",
      "9         9756     776\n"
     ]
    }
   ],
   "source": [
    "# 2019\n",
    "sales_amount(date_19, '2019')"
   ]
  },
  {
   "cell_type": "code",
   "execution_count": 10,
   "metadata": {},
   "outputs": [
    {
     "name": "stdout",
     "output_type": "stream",
     "text": [
      "TOP 10 BEST PRODUCTS OF 2020\n",
      "   cod_product  amount\n",
      "0         2128     552\n",
      "1         2324     513\n",
      "2         4464     474\n",
      "3         4460     473\n",
      "4         4456     439\n",
      "5         9824     399\n",
      "6         2116     361\n",
      "7         2152     359\n",
      "8         2192     343\n",
      "9         2396     328\n",
      "TOP 10 WORST PRODUCTS OF 2020\n",
      "   cod_product  amount\n",
      "0         2128     552\n",
      "1         2324     513\n",
      "2         4464     474\n",
      "3         4460     473\n",
      "4         4456     439\n",
      "5         9824     399\n",
      "6         2116     361\n",
      "7         2152     359\n",
      "8         2192     343\n",
      "9         2396     328\n"
     ]
    }
   ],
   "source": [
    "# 2020\n",
    "sales_amount(date_20, '2020')"
   ]
  },
  {
   "cell_type": "markdown",
   "metadata": {},
   "source": [
    "## Question 02\n",
    "What are the months with the highest and lowest revenue for the entire period?"
   ]
  },
  {
   "cell_type": "code",
   "execution_count": 11,
   "metadata": {},
   "outputs": [],
   "source": [
    "def graph_revenue(df, title):\n",
    "    values = df[['month','sale_value']].groupby('month').sum()/10**6\n",
    "    plt.plot(values)\n",
    "    plt.title(title)\n",
    "    plt.xlabel('Months (Jan-Dec)')\n",
    "    plt.ylabel('Revenue (in M)')\n",
    "    plt.show"
   ]
  },
  {
   "cell_type": "code",
   "execution_count": 12,
   "metadata": {},
   "outputs": [
    {
     "data": {
      "image/png": "[encoded data removed]",
      "text/plain": [
       "<Figure size 432x288 with 1 Axes>"
      ]
     },
     "metadata": {
      "needs_background": "light"
     },
     "output_type": "display_data"
    }
   ],
   "source": [
    "graph_revenue(sales, 'Revenue for the Entire Period')"
   ]
  },
  {
   "cell_type": "markdown",
   "metadata": {},
   "source": [
    "## Question 03\n",
    "What are the months with the highest and lowest revenue in 2018, 2019 and 2020?"
   ]
  },
  {
   "cell_type": "code",
   "execution_count": 13,
   "metadata": {},
   "outputs": [],
   "source": [
    "def graph_revenue(df, title):\n",
    "    values = df[['month','sale_value']].groupby('month').sum()/10**3\n",
    "    plt.plot(values)\n",
    "    plt.title(title)\n",
    "    plt.xlabel('Months (Jan-Dec)')\n",
    "    plt.ylabel('Revenue (in K)')\n",
    "    plt.show"
   ]
  },
  {
   "cell_type": "code",
   "execution_count": 14,
   "metadata": {},
   "outputs": [
    {
     "data": {
      "image/png": "[encoded data removed]",
      "text/plain": [
       "<Figure size 432x288 with 1 Axes>"
      ]
     },
     "metadata": {
      "needs_background": "light"
     },
     "output_type": "display_data"
    }
   ],
   "source": [
    "graph_revenue(date_18, 'Revenue for the year 2018')"
   ]
  },
  {
   "cell_type": "code",
   "execution_count": 15,
   "metadata": {},
   "outputs": [
    {
     "data": {
      "image/png": "[encoded data removed]",
      "text/plain": [
       "<Figure size 432x288 with 1 Axes>"
      ]
     },
     "metadata": {
      "needs_background": "light"
     },
     "output_type": "display_data"
    }
   ],
   "source": [
    "graph_revenue(date_19, 'Revenue for the year 2019')"
   ]
  },
  {
   "cell_type": "code",
   "execution_count": 16,
   "metadata": {},
   "outputs": [
    {
     "data": {
      "image/png": "[encoded data removed]",
      "text/plain": [
       "<Figure size 432x288 with 1 Axes>"
      ]
     },
     "metadata": {
      "needs_background": "light"
     },
     "output_type": "display_data"
    }
   ],
   "source": [
    "graph_revenue(date_20, 'Revenue for the year 2020')"
   ]
  },
  {
   "cell_type": "markdown",
   "metadata": {},
   "source": [
    "## Question 04\n",
    "What are the top 3 customers who buy more and less in sales?"
   ]
  },
  {
   "cell_type": "code",
   "execution_count": 17,
   "metadata": {},
   "outputs": [],
   "source": [
    "df = sales[['cod_client','sale_value']].sort_values(['sale_value'])"
   ]
  },
  {
   "cell_type": "code",
   "execution_count": 18,
   "metadata": {},
   "outputs": [
    {
     "name": "stdout",
     "output_type": "stream",
     "text": [
      "TOP 3 BIGGEST BUYERS\n",
      "        cod_client  sale_value\n",
      "54419        78640   2613856.0\n",
      "102558      128528   3181024.0\n",
      "102624       18432   3181024.0\n"
     ]
    }
   ],
   "source": [
    "print('TOP 3 BIGGEST BUYERS')\n",
    "print(df.iloc[-3:,:])"
   ]
  },
  {
   "cell_type": "code",
   "execution_count": 19,
   "metadata": {},
   "outputs": [
    {
     "name": "stdout",
     "output_type": "stream",
     "text": [
      "TOP 3 SMALLER BUYERS\n",
      "      cod_client  sale_value\n",
      "353        66192       15.68\n",
      "1247      123984       15.68\n",
      "1245      123984       15.68\n"
     ]
    }
   ],
   "source": [
    "print('TOP 3 SMALLER BUYERS')\n",
    "print(df.iloc[:3,:])"
   ]
  },
  {
   "cell_type": "markdown",
   "metadata": {},
   "source": [
    "## Question 05\n",
    "Which are the top 3 customers who buy more and less in quantity of purchases?"
   ]
  },
  {
   "cell_type": "code",
   "execution_count": 20,
   "metadata": {},
   "outputs": [],
   "source": [
    "df = sales[['cod_client','qty_product']].groupby(by=['cod_client']).sum().sort_values(by=['qty_product'])"
   ]
  },
  {
   "cell_type": "code",
   "execution_count": 21,
   "metadata": {},
   "outputs": [
    {
     "name": "stdout",
     "output_type": "stream",
     "text": [
      "TOP 3 BIGGEST BUYERS\n"
     ]
    },
    {
     "data": {
      "text/html": [
       "<div>\n",
       "<style scoped>\n",
       "    .dataframe tbody tr th:only-of-type {\n",
       "        vertical-align: middle;\n",
       "    }\n",
       "\n",
       "    .dataframe tbody tr th {\n",
       "        vertical-align: top;\n",
       "    }\n",
       "\n",
       "    .dataframe thead th {\n",
       "        text-align: right;\n",
       "    }\n",
       "</style>\n",
       "<table border=\"1\" class=\"dataframe\">\n",
       "  <thead>\n",
       "    <tr style=\"text-align: right;\">\n",
       "      <th></th>\n",
       "      <th>qty_product</th>\n",
       "    </tr>\n",
       "    <tr>\n",
       "      <th>cod_client</th>\n",
       "      <th></th>\n",
       "    </tr>\n",
       "  </thead>\n",
       "  <tbody>\n",
       "    <tr>\n",
       "      <th>23616</th>\n",
       "      <td>637824.0</td>\n",
       "    </tr>\n",
       "    <tr>\n",
       "      <th>9344</th>\n",
       "      <td>659040.0</td>\n",
       "    </tr>\n",
       "    <tr>\n",
       "      <th>35648</th>\n",
       "      <td>899216.0</td>\n",
       "    </tr>\n",
       "  </tbody>\n",
       "</table>\n",
       "</div>"
      ],
      "text/plain": [
       "            qty_product\n",
       "cod_client             \n",
       "23616          637824.0\n",
       "9344           659040.0\n",
       "35648          899216.0"
      ]
     },
     "execution_count": 21,
     "metadata": {},
     "output_type": "execute_result"
    }
   ],
   "source": [
    "print('TOP 3 BIGGEST BUYERS')\n",
    "df.iloc[-3:,:]"
   ]
  },
  {
   "cell_type": "code",
   "execution_count": 22,
   "metadata": {},
   "outputs": [
    {
     "name": "stdout",
     "output_type": "stream",
     "text": [
      "TOP 3 SMALLER BUYERS\n"
     ]
    },
    {
     "data": {
      "text/html": [
       "<div>\n",
       "<style scoped>\n",
       "    .dataframe tbody tr th:only-of-type {\n",
       "        vertical-align: middle;\n",
       "    }\n",
       "\n",
       "    .dataframe tbody tr th {\n",
       "        vertical-align: top;\n",
       "    }\n",
       "\n",
       "    .dataframe thead th {\n",
       "        text-align: right;\n",
       "    }\n",
       "</style>\n",
       "<table border=\"1\" class=\"dataframe\">\n",
       "  <thead>\n",
       "    <tr style=\"text-align: right;\">\n",
       "      <th></th>\n",
       "      <th>qty_product</th>\n",
       "    </tr>\n",
       "    <tr>\n",
       "      <th>cod_client</th>\n",
       "      <th></th>\n",
       "    </tr>\n",
       "  </thead>\n",
       "  <tbody>\n",
       "    <tr>\n",
       "      <th>29664</th>\n",
       "      <td>16.0</td>\n",
       "    </tr>\n",
       "    <tr>\n",
       "      <th>288</th>\n",
       "      <td>16.0</td>\n",
       "    </tr>\n",
       "    <tr>\n",
       "      <th>130240</th>\n",
       "      <td>16.0</td>\n",
       "    </tr>\n",
       "  </tbody>\n",
       "</table>\n",
       "</div>"
      ],
      "text/plain": [
       "            qty_product\n",
       "cod_client             \n",
       "29664              16.0\n",
       "288                16.0\n",
       "130240             16.0"
      ]
     },
     "execution_count": 22,
     "metadata": {},
     "output_type": "execute_result"
    }
   ],
   "source": [
    "print('TOP 3 SMALLER BUYERS')\n",
    "df.iloc[:3,:]"
   ]
  },
  {
   "cell_type": "markdown",
   "metadata": {},
   "source": [
    "## Question 06\n",
    "What is the average amount of sales per sale in 2018, 2019 and 2020?"
   ]
  },
  {
   "cell_type": "code",
   "execution_count": 23,
   "metadata": {},
   "outputs": [
    {
     "name": "stdout",
     "output_type": "stream",
     "text": [
      "Avarege of 2018: 214.6745838733727\n",
      "Avarege of 2019: 262.43483390779033\n",
      "Avarege of 2020: 310.2126973671565\n"
     ]
    }
   ],
   "source": [
    "print(f'Avarege of 2018: {date_18.sale_value.sum()/date_18.qty_product.sum()}')\n",
    "print(f'Avarege of 2019: {date_19.sale_value.sum()/date_19.qty_product.sum()}')\n",
    "print(f'Avarege of 2020: {date_20.sale_value.sum()/date_20.qty_product.sum()}')"
   ]
  },
  {
   "cell_type": "markdown",
   "metadata": {},
   "source": [
    "## Question 07\n",
    "What are the months with the highest and lowest average sales per year in 2018, 2019 and 2020?"
   ]
  },
  {
   "cell_type": "code",
   "execution_count": 24,
   "metadata": {},
   "outputs": [],
   "source": [
    "def graph_revenue(df, title):\n",
    "    df = df[['month','qty_product','sale_value']].groupby('month').sum()\n",
    "    qty = df.iloc[:,0]\n",
    "    value = df.iloc[:,1]\n",
    "    average = value/qty\n",
    "    plt.plot(average)\n",
    "    plt.title(title)\n",
    "    plt.xlabel('Months (Jan-Dec)')\n",
    "    plt.ylabel('Revenue (in K)')\n",
    "    plt.show"
   ]
  },
  {
   "cell_type": "code",
   "execution_count": 25,
   "metadata": {},
   "outputs": [
    {
     "data": {
      "image/png": "[encoded data removed]",
      "text/plain": [
       "<Figure size 432x288 with 1 Axes>"
      ]
     },
     "metadata": {
      "needs_background": "light"
     },
     "output_type": "display_data"
    }
   ],
   "source": [
    "graph_revenue(date_18, 'Average sale of 2018')"
   ]
  },
  {
   "cell_type": "code",
   "execution_count": 26,
   "metadata": {},
   "outputs": [
    {
     "data": {
      "image/png": "[encoded data removed]",
      "text/plain": [
       "<Figure size 432x288 with 1 Axes>"
      ]
     },
     "metadata": {
      "needs_background": "light"
     },
     "output_type": "display_data"
    }
   ],
   "source": [
    "graph_revenue(date_19, 'Average sale of 2019')"
   ]
  },
  {
   "cell_type": "code",
   "execution_count": 27,
   "metadata": {},
   "outputs": [
    {
     "data": {
      "image/png": "[encoded data removed]",
      "text/plain": [
       "<Figure size 432x288 with 1 Axes>"
      ]
     },
     "metadata": {
      "needs_background": "light"
     },
     "output_type": "display_data"
    }
   ],
   "source": [
    "graph_revenue(date_20, 'Average sale of 2020')"
   ]
  },
  {
   "cell_type": "markdown",
   "metadata": {},
   "source": [
    "## Question 08\n",
    "What is the quarter with the highest revenue for the entire period?"
   ]
  },
  {
   "cell_type": "code",
   "execution_count": 28,
   "metadata": {},
   "outputs": [
    {
     "name": "stdout",
     "output_type": "stream",
     "text": [
      "Q1-18: 139.01790957151997\n",
      "Q2-18: 134.58005189216\n",
      "Q3-18: 605.9734766086414\n",
      "Q4-18: 797.418324039681\n",
      "Q1-19: 757.3657916742402\n",
      "Q2-19: 928.4851552435218\n",
      "Q3-19: 1120.837461531203\n",
      "Q4-19: 1070.9193694863998\n",
      "Q1-20: 1060.9615188099212\n",
      "Q2-20: 759.7204303516799\n"
     ]
    }
   ],
   "source": [
    "print(f'Q1-18:',date_18[['month','sale_value']].groupby('month').sum().iloc[0:3,:].sum().values[0]/10**6)\n",
    "print(f'Q2-18:',date_18[['month','sale_value']].groupby('month').sum().iloc[3:6,:].sum().values[0]/10**6)\n",
    "print(f'Q3-18:',date_18[['month','sale_value']].groupby('month').sum().iloc[6:9,:].sum().values[0]/10**6)\n",
    "print(f'Q4-18:',date_18[['month','sale_value']].groupby('month').sum().iloc[9:12,:].sum().values[0]/10**6)\n",
    "print(f'Q1-19:',date_19[['month','sale_value']].groupby('month').sum().iloc[0:3,:].sum().values[0]/10**6)\n",
    "print(f'Q2-19:',date_19[['month','sale_value']].groupby('month').sum().iloc[3:6,:].sum().values[0]/10**6)\n",
    "print(f'Q3-19:',date_19[['month','sale_value']].groupby('month').sum().iloc[6:9,:].sum().values[0]/10**6)\n",
    "print(f'Q4-19:',date_19[['month','sale_value']].groupby('month').sum().iloc[9:12,:].sum().values[0]/10**6)\n",
    "print(f'Q1-20:',date_20[['month','sale_value']].groupby('month').sum().iloc[0:3,:].sum().values[0]/10**6)\n",
    "print(f'Q2-20:',date_20[['month','sale_value']].groupby('month').sum().iloc[3:6,:].sum().values[0]/10**6)"
   ]
  },
  {
   "cell_type": "markdown",
   "metadata": {},
   "source": [
    "## Question 09\n",
    "In which month of the whole period was there the biggest sale of DISTINCT products?"
   ]
  },
  {
   "cell_type": "code",
   "execution_count": 29,
   "metadata": {},
   "outputs": [
    {
     "data": {
      "text/html": [
       "<div>\n",
       "<style scoped>\n",
       "    .dataframe tbody tr th:only-of-type {\n",
       "        vertical-align: middle;\n",
       "    }\n",
       "\n",
       "    .dataframe tbody tr th {\n",
       "        vertical-align: top;\n",
       "    }\n",
       "\n",
       "    .dataframe thead th {\n",
       "        text-align: right;\n",
       "    }\n",
       "</style>\n",
       "<table border=\"1\" class=\"dataframe\">\n",
       "  <thead>\n",
       "    <tr style=\"text-align: right;\">\n",
       "      <th></th>\n",
       "      <th>cod_client</th>\n",
       "      <th>cod_product</th>\n",
       "      <th>date_sales</th>\n",
       "      <th>qty_product</th>\n",
       "      <th>sale_value</th>\n",
       "      <th>year</th>\n",
       "      <th>month</th>\n",
       "      <th>day</th>\n",
       "    </tr>\n",
       "  </thead>\n",
       "  <tbody>\n",
       "    <tr>\n",
       "      <th>102558</th>\n",
       "      <td>128528</td>\n",
       "      <td>2304</td>\n",
       "      <td>20200515</td>\n",
       "      <td>96.0</td>\n",
       "      <td>3181024.0</td>\n",
       "      <td>2020</td>\n",
       "      <td>05</td>\n",
       "      <td>15</td>\n",
       "    </tr>\n",
       "    <tr>\n",
       "      <th>102624</th>\n",
       "      <td>18432</td>\n",
       "      <td>2304</td>\n",
       "      <td>20200515</td>\n",
       "      <td>16.0</td>\n",
       "      <td>3181024.0</td>\n",
       "      <td>2020</td>\n",
       "      <td>05</td>\n",
       "      <td>15</td>\n",
       "    </tr>\n",
       "  </tbody>\n",
       "</table>\n",
       "</div>"
      ],
      "text/plain": [
       "        cod_client  cod_product  date_sales  qty_product  sale_value  year  \\\n",
       "102558      128528         2304    20200515         96.0   3181024.0  2020   \n",
       "102624       18432         2304    20200515         16.0   3181024.0  2020   \n",
       "\n",
       "       month day  \n",
       "102558    05  15  \n",
       "102624    05  15  "
      ]
     },
     "execution_count": 29,
     "metadata": {},
     "output_type": "execute_result"
    }
   ],
   "source": [
    "sales[sales['sale_value'] == sales['sale_value'].max()]"
   ]
  },
  {
   "cell_type": "markdown",
   "metadata": {},
   "source": [
    "## Question 10\n",
    "In which quarter was the lowest sale of DISTINCT products?"
   ]
  },
  {
   "cell_type": "code",
   "execution_count": 30,
   "metadata": {},
   "outputs": [
    {
     "data": {
      "text/html": [
       "<div>\n",
       "<style scoped>\n",
       "    .dataframe tbody tr th:only-of-type {\n",
       "        vertical-align: middle;\n",
       "    }\n",
       "\n",
       "    .dataframe tbody tr th {\n",
       "        vertical-align: top;\n",
       "    }\n",
       "\n",
       "    .dataframe thead th {\n",
       "        text-align: right;\n",
       "    }\n",
       "</style>\n",
       "<table border=\"1\" class=\"dataframe\">\n",
       "  <thead>\n",
       "    <tr style=\"text-align: right;\">\n",
       "      <th></th>\n",
       "      <th>month</th>\n",
       "      <th>year</th>\n",
       "    </tr>\n",
       "  </thead>\n",
       "  <tbody>\n",
       "    <tr>\n",
       "      <th>353</th>\n",
       "      <td>01</td>\n",
       "      <td>2018</td>\n",
       "    </tr>\n",
       "    <tr>\n",
       "      <th>1245</th>\n",
       "      <td>02</td>\n",
       "      <td>2018</td>\n",
       "    </tr>\n",
       "    <tr>\n",
       "      <th>1246</th>\n",
       "      <td>02</td>\n",
       "      <td>2018</td>\n",
       "    </tr>\n",
       "    <tr>\n",
       "      <th>1247</th>\n",
       "      <td>02</td>\n",
       "      <td>2018</td>\n",
       "    </tr>\n",
       "  </tbody>\n",
       "</table>\n",
       "</div>"
      ],
      "text/plain": [
       "     month  year\n",
       "353     01  2018\n",
       "1245    02  2018\n",
       "1246    02  2018\n",
       "1247    02  2018"
      ]
     },
     "execution_count": 30,
     "metadata": {},
     "output_type": "execute_result"
    }
   ],
   "source": [
    "sales[sales['sale_value'] == sales['sale_value'].min()][['month','year']]"
   ]
  }
 ],
 "metadata": {
  "kernelspec": {
   "display_name": "Python 3",
   "language": "python",
   "name": "python3"
  },
  "language_info": {
   "codemirror_mode": {
    "name": "ipython",
    "version": 3
   },
   "file_extension": ".py",
   "mimetype": "text/x-python",
   "name": "python",
   "nbconvert_exporter": "python",
   "pygments_lexer": "ipython3",
   "version": "3.7.7"
  }
 },
 "nbformat": 4,
 "nbformat_minor": 2
}
